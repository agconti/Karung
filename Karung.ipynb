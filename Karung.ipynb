{
 "metadata": {
  "name": "Karung"
 },
 "nbformat": 3,
 "nbformat_minor": 0,
 "worksheets": [
  {
   "cells": [
    {
     "cell_type": "markdown",
     "metadata": {},
     "source": [
      "##Karung | By Andrew Conti"
     ]
    },
    {
     "cell_type": "markdown",
     "metadata": {},
     "source": [
      "###Lets take a look at our data:"
     ]
    },
    {
     "cell_type": "code",
     "collapsed": false,
     "input": [
      "import csv\n",
      "with open(\"sample.txt\", 'rb') as f1:\n",
      "    reader = csv.reader(f1)\n",
      "    for line in reader:\n",
      "        print line"
     ],
     "language": "python",
     "metadata": {},
     "outputs": [
      {
       "output_type": "stream",
       "stream": "stdout",
       "text": [
        "['0067011990999991950051507004+68750+023550FM-12+038299999V0203301N00671220001CN9999999N9+00001+99999999999']\n",
        "['0043011990999991950051512004+68750+023550FM-12+038299999V0203201N00671220001CN9999999N9+00221+99999999999']\n",
        "['0043011990999991950051518004+68750+023550FM-12+038299999V0203201N00261220001CN9999999N9-00111+99999999999']\n",
        "['0043012650999991949032412004+62300+010750FM-12+048599999V0202701N00461220001CN0500001N9+01111+99999999999']\n",
        "['0043012650999991949032418004+62300+010750FM-12+048599999V0202701N00461220001CN0500001N9+00781+99999999999']\n"
       ]
      }
     ],
     "prompt_number": 15
    },
    {
     "cell_type": "code",
     "collapsed": false,
     "input": [
      "cd C:\\Users\\Andrew\\Documents\\Hadoop\\hadoop-book\\ch02\\src\\main\\python"
     ],
     "language": "python",
     "metadata": {},
     "outputs": [
      {
       "output_type": "stream",
       "stream": "stdout",
       "text": [
        "C:\\Users\\Andrew\\Documents\\Hadoop\\hadoop-book\\ch02\\src\\main\\python\n"
       ]
      }
     ],
     "prompt_number": 2
    },
    {
     "cell_type": "code",
     "collapsed": false,
     "input": [
      "ls"
     ],
     "language": "python",
     "metadata": {},
     "outputs": [
      {
       "output_type": "stream",
       "stream": "stdout",
       "text": [
        " Volume in drive C is OS\n",
        " Volume Serial Number is EA4A-2994\n",
        "\n",
        " Directory of C:\\Users\\Andrew\\Documents\\Hadoop\\hadoop-book\\ch02\\src\\main\\python\n",
        "\n",
        "06/05/2013  07:21 PM    <DIR>          .\n",
        "06/05/2013  07:21 PM    <DIR>          ..\n",
        "06/07/2013  11:18 PM               314 max_temperature_map.py\n",
        "06/07/2013  11:18 PM               443 max_temperature_reduce.py\n",
        "               2 File(s)            757 bytes\n",
        "               2 Dir(s)  772,247,666,688 bytes free\n"
       ]
      }
     ],
     "prompt_number": 3
    },
    {
     "cell_type": "markdown",
     "metadata": {},
     "source": [
      "###Let's define the 'map' part our our mapreduce function:"
     ]
    },
    {
     "cell_type": "code",
     "collapsed": false,
     "input": [
      "%%writefile max_temperature_map.py\n",
      "\n",
      "#!/usr/bin/env python\n",
      "class max_temp_map(Mapreduce):\n",
      "\t'''\n",
      "\tA simple doc string\n",
      "\t'''\n",
      "\timport re\n",
      "\timport sys\n",
      "\n",
      "\tfor line in sys.stdin:\n",
      "\t  val = line.strip()\n",
      "\t  (year, temp, q) = (val[15:19], val[87:92], val[92:93])\n",
      "\t  if (temp != \"+9999\" and re.match(\"[01459]\", q)):\n",
      "\t    print \"%s\\t%s\" % (year, temp)\n"
     ],
     "language": "python",
     "metadata": {},
     "outputs": []
    },
    {
     "cell_type": "markdown",
     "metadata": {},
     "source": [
      "###Let's define the reduce:"
     ]
    },
    {
     "cell_type": "code",
     "collapsed": false,
     "input": [
      "%%writefile max_temperature_reduce.py\n",
      "#!/usr/bin/env python\n",
      "class max_temp_reduce(Mapred):\n",
      "\t'''\n",
      "\n",
      "\t'''\n",
      "\timport sys\n",
      "\n",
      "\t(last_key, max_val) = (None, -sys.maxint)\n",
      "\tfor line in sys.stdin:\n",
      "\t  (key, val) = line.strip().split(\"\\t\")\n",
      "\t  if last_key and last_key != key:\n",
      "\t    print \"%s\\t%s\" % (last_key, max_val)\n",
      "\t    (last_key, max_val) = (key, int(val))\n",
      "\t  else:\n",
      "\t    (last_key, max_val) = (key, max(max_val, int(val)))\n",
      "\n",
      "\tif last_key:\n",
      "\t  print \"%s\\t%s\" % (last_key, max_val)"
     ],
     "language": "python",
     "metadata": {},
     "outputs": [
      {
       "ename": "NameError",
       "evalue": "name 'Mapred' is not defined",
       "output_type": "pyerr",
       "traceback": [
        "\u001b[1;31m---------------------------------------------------------------------------\u001b[0m\n\u001b[1;31mNameError\u001b[0m                                 Traceback (most recent call last)",
        "\u001b[1;32m<ipython-input-6-81cfeff32686>\u001b[0m in \u001b[0;36m<module>\u001b[1;34m()\u001b[0m\n\u001b[0;32m      1\u001b[0m \u001b[1;31m#!/usr/bin/env python\u001b[0m\u001b[1;33m\u001b[0m\u001b[1;33m\u001b[0m\u001b[0m\n\u001b[1;32m----> 2\u001b[1;33m \u001b[1;32mclass\u001b[0m \u001b[0mmax_temp_reduce\u001b[0m\u001b[1;33m(\u001b[0m\u001b[0mMapred\u001b[0m\u001b[1;33m)\u001b[0m\u001b[1;33m:\u001b[0m\u001b[1;33m\u001b[0m\u001b[0m\n\u001b[0m\u001b[0;32m      3\u001b[0m \t'''\n\u001b[0;32m      4\u001b[0m \u001b[1;33m\u001b[0m\u001b[0m\n\u001b[0;32m      5\u001b[0m \t'''\n",
        "\u001b[1;31mNameError\u001b[0m: name 'Mapred' is not defined"
       ]
      }
     ],
     "prompt_number": 6
    },
    {
     "cell_type": "markdown",
     "metadata": {},
     "source": [
      "###Let's test out our functions and see the results:"
     ]
    },
    {
     "cell_type": "code",
     "collapsed": false,
     "input": [
      "!hadoop jar }"
     ],
     "language": "python",
     "metadata": {},
     "outputs": []
    },
    {
     "cell_type": "markdown",
     "metadata": {},
     "source": [
      "###Results:"
     ]
    },
    {
     "cell_type": "code",
     "collapsed": false,
     "input": [
      "Great but that process was a little time consuming\n",
      "\n",
      "Lets try this out in Pig"
     ],
     "language": "python",
     "metadata": {},
     "outputs": []
    },
    {
     "cell_type": "code",
     "collapsed": false,
     "input": [
      "cd C:\\Users\\Andrew\\Documents\\Hadoop\\hadoop-book\\ch11\\src\\main\\pig"
     ],
     "language": "python",
     "metadata": {},
     "outputs": [
      {
       "output_type": "stream",
       "stream": "stdout",
       "text": [
        "C:\\Users\\Andrew\\Documents\\Hadoop\\hadoop-book\\ch11\\src\\main\\pig\n"
       ]
      }
     ],
     "prompt_number": 18
    },
    {
     "cell_type": "markdown",
     "metadata": {},
     "source": [
      "###Below is a pig file to find the max temp, just like we did before."
     ]
    },
    {
     "cell_type": "code",
     "collapsed": false,
     "input": [
      "%%writefile max_temp.pig\n",
      "-- max_temp.pig: Finds the maximum temperature by year\n",
      "records = LOAD 'input/ncdc/micro-tab/sample.txt'\n",
      "  AS (year:chararray, temperature:int, quality:int);\n",
      "filtered_records = FILTER records BY temperature != 9999 AND\n",
      "  (quality == 0 OR quality == 1 OR quality == 4 OR quality == 5 OR quality == 9);\n",
      "grouped_records = GROUP filtered_records BY year;\n",
      "max_temp = FOREACH grouped_records GENERATE group,\n",
      "  MAX(filtered_records.temperature);\n",
      "DUMP max_temp;\n"
     ],
     "language": "python",
     "metadata": {},
     "outputs": []
    },
    {
     "cell_type": "code",
     "collapsed": false,
     "input": [
      "! execute pig file"
     ],
     "language": "python",
     "metadata": {},
     "outputs": []
    },
    {
     "cell_type": "markdown",
     "metadata": {},
     "source": [
      "###Results:"
     ]
    },
    {
     "cell_type": "markdown",
     "metadata": {},
     "source": [
      "###Version Control"
     ]
    },
    {
     "cell_type": "code",
     "collapsed": false,
     "input": [
      "pwd"
     ],
     "language": "python",
     "metadata": {},
     "outputs": []
    },
    {
     "cell_type": "code",
     "collapsed": false,
     "input": [
      "!git add Karung.ipynb"
     ],
     "language": "python",
     "metadata": {},
     "outputs": [
      {
       "output_type": "stream",
       "stream": "stderr",
       "text": [
        "fatal: pathspec 'ch11/src/main/pig/Karung.ipynb' did not match any files\n"
       ]
      }
     ],
     "prompt_number": 19
    },
    {
     "cell_type": "code",
     "collapsed": false,
     "input": [
      "!git commit"
     ],
     "language": "python",
     "metadata": {},
     "outputs": [
      {
       "output_type": "stream",
       "stream": "stdout",
       "text": [
        "# On branch master\n",
        "# Changes not staged for commit:\n",
        "#   (use \"git add <file>...\" to update what will be committed)\n",
        "#   (use \"git checkout -- <file>...\" to discard changes in working directory)\n",
        "#\n",
        "#\tmodified:   ../../../../ch02/src/main/python/max_temperature_map.py\n",
        "#\tmodified:   ../../../../ch02/src/main/python/max_temperature_reduce.py\n",
        "#\n",
        "no changes added to commit (use \"git add\" and/or \"git commit -a\")\n"
       ]
      }
     ],
     "prompt_number": 20
    },
    {
     "cell_type": "code",
     "collapsed": false,
     "input": [],
     "language": "python",
     "metadata": {},
     "outputs": []
    }
   ],
   "metadata": {}
  }
 ]
}